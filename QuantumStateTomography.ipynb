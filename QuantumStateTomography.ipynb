{
 "cells": [
  {
   "cell_type": "markdown",
   "id": "5f20a7f0-197a-4f9e-9770-e004d0f9b521",
   "metadata": {},
   "source": [
    "To-do List:\n",
    "- Try MCMC sampling\n",
    "- simulate noisy circuits\n",
    "- custom priors\n",
    "- custom guide"
   ]
  },
  {
   "cell_type": "code",
   "execution_count": 28,
   "id": "ad821bd8-6a4b-49c7-b4a7-c9a92ef8bcd8",
   "metadata": {},
   "outputs": [],
   "source": [
    "import numpy as np\n",
    "import pandas as pd\n",
    "import scipy\n",
    "import matplotlib.pyplot as plt\n",
    "from tqdm import tqdm\n",
    "import random\n",
    "import pickle\n",
    "%matplotlib inline\n",
    "\n",
    "import torch\n",
    "from torch.distributions import constraints\n",
    "import torch.nn as nn\n",
    "from torch.utils.data import DataLoader\n",
    "from torch.utils.data.sampler import SubsetRandomSampler\n",
    "import torch.nn.functional as F\n",
    "\n",
    "import pyro\n",
    "import pyro.distributions as dist\n",
    "from pyro.infer import Predictive, SVI, Trace_ELBO\n",
    "from pyro.optim import Adam, SGD"
   ]
  },
  {
   "cell_type": "code",
   "execution_count": 3,
   "id": "baca6937-3b70-4921-a2ce-d890d04c9ed2",
   "metadata": {},
   "outputs": [],
   "source": [
    "assert pyro.__version__.startswith('1.8.6')\n",
    "pyro.distributions.enable_validation(False)\n",
    "pyro.set_rng_seed(0)\n",
    "# Enable smoke test - run the notebook cells on CI.\n",
    "smoke_test = True"
   ]
  },
  {
   "cell_type": "code",
   "execution_count": 4,
   "id": "000e5dc0-1481-44c4-b837-3c8e282da6ef",
   "metadata": {},
   "outputs": [
    {
     "name": "stdout",
     "output_type": "stream",
     "text": [
      "[0.014998596803814605, 0.15511065626598572, 0.12525881227615243, 0.005689757606629152, 0.14083295265364282, 0.013379998151701574, 0.2299266067388926, 0.008542609533421808, 0.16565172112297352, 0.14060828884678478]\n"
     ]
    }
   ],
   "source": [
    "name = \"GHZ_2\"\n",
    "filename = name+\"_statistics\"\n",
    "path = \"data/\"+filename\n",
    "\n",
    "probabilities = []\n",
    "with open(path, \"r\") as f:\n",
    "    lines = f.read().splitlines()\n",
    "for line in lines:\n",
    "    outcome, freq = line.split(\" \")\n",
    "    number = int(outcome)\n",
    "    probabilities.append(float(freq))\n",
    "options = range(len(probabilities))\n",
    "print(probabilities)\n",
    "n_samples = 10000\n",
    "data = np.random.choice(options, n_samples, p=probabilities)"
   ]
  },
  {
   "cell_type": "code",
   "execution_count": 5,
   "id": "dc24d98c-7c3d-446e-9032-62ad8caa0e79",
   "metadata": {},
   "outputs": [],
   "source": [
    "class QuantumStateTomography(nn.Module):\n",
    "    def __init__(self, n=3, alpha = 0.1, K=1, POVM=None, sigma =1):\n",
    "        super().__init__()\n",
    "        #define hyperparameters\n",
    "        self.N = 2**n        # size of system (2^num qubits)\n",
    "        self.alpha = alpha   # sparsity of the density matrix\n",
    "        self.K = K           # rank of the density matrix\n",
    "        if POVM is not None:\n",
    "            self.POVM = torch.from_numpy(POVM).type(torch.complex64) # measurement set used\n",
    "        else:\n",
    "            self.POVM = None\n",
    "        self.sigma = sigma   # variance of the complex vectors\n",
    "\n",
    "    def model(self, data):\n",
    "        #draw a probability distribution over K pure states\n",
    "        theta = pyro.sample(\"theta\", dist.Dirichlet(torch.ones(self.K)*self.alpha))\n",
    "        \n",
    "        #generate K pure states\n",
    "        with pyro.plate(\"pure states\", self.K):\n",
    "            real_part = pyro.sample(\"real_part\", dist.MultivariateNormal(torch.zeros(self.N),self.sigma*torch.eye(self.N)))\n",
    "            imag_part = pyro.sample(\"imag_part\", dist.MultivariateNormal(torch.zeros(self.N),self.sigma*torch.eye(self.N)))\n",
    "            complex_vector = torch.complex(real_part, imag_part)\n",
    "            norm_vector = complex_vector / torch.norm(complex_vector, dim=-1, keepdim=True)\n",
    "        norm_vector = torch.transpose(norm_vector,0,1)\n",
    "        #compute the density matrix (rho)\n",
    "        # theta_diag = torch.diag(theta).type(torch.complex64)\n",
    "        # norm_vector_hat = torch.conj(torch.transpose(norm_vector, 0,1))\n",
    "        # rho = pyro.deterministic(\"density matrix\", torch.matmul(torch.matmul(norm_vector_hat, theta_diag), norm_vector))\n",
    "        \n",
    "        if self.POVM == None:\n",
    "            #standard basis measurements\n",
    "            squared = torch.conj(norm_vector) * norm_vector\n",
    "            probabilities = (squared @ theta.type(torch.complex64))\n",
    "            with pyro.plate(\"data\", len(data)):\n",
    "                return pyro.sample(\"obs\", dist.Categorical(probabilities.real), obs=data)\n",
    "        else:\n",
    "            inner_prods = torch.matmul(torch.conj(self.POVM), norm_vector)\n",
    "            squared = torch.conj(inner_prods) * inner_prods\n",
    "            probabilities = (squared @ theta.type(torch.complex64))\n",
    "            with pyro.plate(\"data\", len(data)):\n",
    "                return pyro.sample(\"obs\", dist.Categorical(probabilities.real), obs=data)\n",
    "\n",
    "\n",
    "    def guide(self, data):\n",
    "        #draw a probability distribution over K pure states\n",
    "        alpha = pyro.param(\"alpha\", torch.ones(self.K)*self.alpha)\n",
    "        theta = pyro.sample(\"theta\", dist.Dirichlet(alpha))\n",
    "        \n",
    "        #generate K pure states\n",
    "        with pyro.plate(\"pure states\", self.K):\n",
    "            real_part = pyro.sample(\"real_part\", dist.MultivariateNormal(torch.zeros(self.N),self.sigma*torch.eye(self.N)))\n",
    "            imag_part = pyro.sample(\"imag_part\", dist.MultivariateNormal(torch.zeros(self.N),self.sigma*torch.eye(self.N)))\n",
    "            complex_vector = torch.complex(real_part, imag_part)\n",
    "            norm_vector = complex_vector / torch.norm(complex_vector, dim=-1, keepdim=True)\n",
    "        norm_vector = torch.transpose(norm_vector,0,1)\n",
    "    "
   ]
  },
  {
   "cell_type": "code",
   "execution_count": 6,
   "id": "2461e5d9-b8ab-4441-9fe0-0f3c9c8938a4",
   "metadata": {},
   "outputs": [],
   "source": [
    "def train(svi, train_loader, use_cuda=False):\n",
    "    # initialize loss accumulator\n",
    "    epoch_loss = 0.\n",
    "    # do a training epoch over each mini-batch x returned\n",
    "    # by the data loader\n",
    "    for x in train_loader:\n",
    "        # if on GPU put mini-batch into CUDA memory\n",
    "        if use_cuda:\n",
    "            x = x.cuda()\n",
    "        # do ELBO gradient and accumulate loss\n",
    "        epoch_loss += svi.step(x)\n",
    "\n",
    "    # return epoch loss\n",
    "    normalizer_train = len(train_loader.dataset)\n",
    "    total_epoch_loss_train = epoch_loss / normalizer_train\n",
    "    return total_epoch_loss_train\n",
    "def evaluate(svi, test_loader, use_cuda=False):\n",
    "    # initialize loss accumulator\n",
    "    test_loss = 0.\n",
    "    # compute the loss over the entire test set\n",
    "    for x in test_loader:\n",
    "        # if on GPU put mini-batch into CUDA memory\n",
    "        if use_cuda:\n",
    "            x = x.cuda()\n",
    "        # compute ELBO estimate and accumulate loss\n",
    "        test_loss += svi.evaluate_loss(x)\n",
    "    normalizer_test = len(test_loader.dataset)\n",
    "    total_epoch_loss_test = test_loss / normalizer_test\n",
    "    return total_epoch_loss_test\n",
    "def setup_data_loaders(data, batch_size=128, use_cuda=False):\n",
    "    root = './data'\n",
    "    download = True\n",
    "    random.shuffle(data)\n",
    "    n = len(data)\n",
    "    cutoff = int(0.9*n)\n",
    "    train_set = torch.Tensor(data[:cutoff])\n",
    "    test_set = torch.Tensor(data[cutoff:])\n",
    "\n",
    "    kwargs = {'num_workers': 4, 'pin_memory': use_cuda}\n",
    "    train_loader = torch.utils.data.DataLoader(dataset=train_set,\n",
    "        batch_size=batch_size, shuffle=True, **kwargs)\n",
    "    test_loader = torch.utils.data.DataLoader(dataset=test_set,\n",
    "        batch_size=batch_size, shuffle=False, **kwargs)\n",
    "    return train_loader, test_loader"
   ]
  },
  {
   "cell_type": "code",
   "execution_count": 7,
   "id": "662d5af8-fbc1-4152-9c1a-5de7ad0c7c9e",
   "metadata": {},
   "outputs": [],
   "source": [
    "# Run options\n",
    "LEARNING_RATE = 1.0e-3\n",
    "USE_CUDA = False\n",
    "smoke_test = False\n",
    "\n",
    "# Run only for a single iteration for testing\n",
    "NUM_EPOCHS = 2 if smoke_test else 100\n",
    "TEST_FREQUENCY = 5"
   ]
  },
  {
   "cell_type": "code",
   "execution_count": 8,
   "id": "7f3edad7-36db-4415-bc15-eb591e90d302",
   "metadata": {},
   "outputs": [
    {
     "name": "stdout",
     "output_type": "stream",
     "text": [
      "tensor([[ 0.1193-0.3438j,  0.0476+0.1573j,  0.2642+0.1442j, -0.2018+0.1916j],\n",
      "        [ 0.0102+0.1514j, -0.3274-0.1686j, -0.1533+0.2744j, -0.0175+0.4055j],\n",
      "        [ 0.1132+0.2787j, -0.0140+0.3277j,  0.1858-0.3101j, -0.0431+0.2169j],\n",
      "        [-0.0528-0.3258j,  0.0727-0.3010j,  0.0789-0.1981j, -0.0331+0.3890j],\n",
      "        [ 0.1119+0.3272j,  0.3239+0.0615j,  0.1770+0.0124j,  0.0562+0.1762j],\n",
      "        [ 0.3098+0.0853j, -0.1559+0.1882j, -0.0502-0.4656j, -0.3953+0.0542j],\n",
      "        [-0.3295-0.0540j,  0.3019-0.1538j,  0.3275+0.1736j, -0.3458-0.0075j],\n",
      "        [ 0.3423+0.1358j, -0.1893-0.2297j, -0.1521+0.2799j, -0.2982-0.0127j],\n",
      "        [-0.2214-0.2086j, -0.2069+0.3518j, -0.0951-0.2924j, -0.1566-0.2255j],\n",
      "        [-0.2759+0.0807j, -0.2520+0.1792j, -0.2045+0.0915j, -0.1463+0.2402j]])\n"
     ]
    }
   ],
   "source": [
    "with open(\"data/GHZ_2_POVM\", \"rb\") as f:\n",
    "    POVM = pickle.load(f)\n",
    "\n",
    "print(torch.from_numpy(POVM).type(torch.complex64))"
   ]
  },
  {
   "cell_type": "code",
   "execution_count": 41,
   "id": "6796ace3-f755-4925-b8f3-66f8a75b7bb4",
   "metadata": {},
   "outputs": [
    {
     "name": "stderr",
     "output_type": "stream",
     "text": [
      "[epoch 099]  average training loss: 2.0883: 100%|█| 100/100 [02:36<00:00,  1.57s\n"
     ]
    }
   ],
   "source": [
    "train_loader, test_loader = setup_data_loaders(data,batch_size=128, use_cuda=USE_CUDA)\n",
    "n_qubits = 2\n",
    "n_states = 1\n",
    "\n",
    "# clear param store\n",
    "pyro.clear_param_store()\n",
    "\n",
    "qst = QuantumStateTomography(n=n_qubits, K=n_states, POVM=POVM)\n",
    "optimizer = Adam({\"lr\": LEARNING_RATE})\n",
    "autoguide = pyro.infer.autoguide.AutoNormal(qst.model)\n",
    "svi = SVI(qst.model, autoguide, optimizer, loss=Trace_ELBO())\n",
    "\n",
    "train_elbo = []\n",
    "test_elbo = []\n",
    "# training loop\n",
    "pbar = tqdm(range(NUM_EPOCHS))\n",
    "for epoch in pbar:\n",
    "    total_epoch_loss_train = train(svi, train_loader, use_cuda=USE_CUDA)\n",
    "    train_elbo.append(-total_epoch_loss_train)\n",
    "    pbar.set_description(\"[epoch %03d]  average training loss: %.4f\" % (epoch, total_epoch_loss_train))\n",
    "\n",
    "    if epoch % TEST_FREQUENCY == 0:\n",
    "        # report test diagnostics\n",
    "        total_epoch_loss_test = evaluate(svi, test_loader, use_cuda=USE_CUDA)\n",
    "        test_elbo.append(-total_epoch_loss_test)\n",
    "        pbar.set_description(\"[epoch %03d] average test loss: %.4f\" % (epoch, total_epoch_loss_test))"
   ]
  },
  {
   "cell_type": "code",
   "execution_count": 42,
   "id": "5044ddf4-6487-4e0a-a31f-6ee41ce75c8c",
   "metadata": {},
   "outputs": [
    {
     "data": {
      "image/png": "[encoded data removed]",
      "text/plain": [
       "<Figure size 640x480 with 1 Axes>"
      ]
     },
     "metadata": {},
     "output_type": "display_data"
    }
   ],
   "source": [
    "epochs = np.arange(len(train_elbo))\n",
    "plt.plot(epochs, train_elbo, label='Train ELBO')\n",
    "epochs = np.arange(len(test_elbo))\n",
    "plt.plot(epochs*TEST_FREQUENCY, test_elbo, label='Test ELBO')\n",
    "plt.xlabel('Epochs')\n",
    "plt.ylabel('ELBO')\n",
    "plt.legend()\n",
    "plt.title(f\"Qubits: {n_qubits}, Pure States: {n_states}\")\n",
    "plt.show()"
   ]
  },
  {
   "cell_type": "code",
   "execution_count": 43,
   "id": "9b0aeb8d-778e-4855-8f21-58cb2d7b6035",
   "metadata": {},
   "outputs": [
    {
     "name": "stdout",
     "output_type": "stream",
     "text": [
      "AutoNormal.locs.theta []\n",
      "AutoNormal.scales.theta []\n",
      "AutoNormal.locs.real_part [[0.04135072 0.00021552 0.06482105 0.07221879]]\n",
      "AutoNormal.scales.real_part [[0.0921265  0.06898424 0.10125126 0.09203129]]\n",
      "AutoNormal.locs.imag_part [[ 0.7429989  -0.00080875  0.01097346  0.75467473]]\n",
      "AutoNormal.scales.imag_part [[0.10707575 0.07037342 0.06164349 0.10054676]]\n"
     ]
    }
   ],
   "source": [
    "for name, value in pyro.get_param_store().items():\n",
    "    print(name, pyro.param(name).data.cpu().numpy())\n",
    "# data_ = torch.tensor(data)\n",
    "# predictive_svi = Predictive(qst.model, guide=guide, num_samples=500)(data_)\n",
    "# for k, v in predictive_svi.items():\n",
    "#     print(f\"{k}: {tuple(v.shape)}\")"
   ]
  },
  {
   "cell_type": "code",
   "execution_count": 48,
   "id": "bff02d30-b67b-4370-837d-4193808fec59",
   "metadata": {},
   "outputs": [],
   "source": [
    "from scipy.linalg import sqrtm\n",
    "def trace_dist(a, b):\n",
    "    k = a-b\n",
    "    M = np.matmul(k.conj().T,k)\n",
    "    B = sqrtm(M)\n",
    "    return np.trace(B).real/2\n",
    "\n",
    "def fidelity(a,b):\n",
    "    k = sqrtm(a)\n",
    "    M = k @ b @ k\n",
    "    return (np.trace(sqrtm(M)).real)**2"
   ]
  },
  {
   "cell_type": "code",
   "execution_count": 49,
   "id": "9ac693a1-86e0-4fb9-8fc3-22e6935eb2e3",
   "metadata": {},
   "outputs": [
    {
     "name": "stdout",
     "output_type": "stream",
     "text": [
      "vec2 [[0.03885087+0.698081j   0.00020249-0.00075986j 0.0609023 +0.01031007j\n",
      "  0.06785282+0.709051j  ]]\n",
      "(1, 4)\n",
      "[[0.5+0.j 0. +0.j 0. +0.j 0.5+0.j]\n",
      " [0. +0.j 0. +0.j 0. +0.j 0. +0.j]\n",
      " [0. +0.j 0. +0.j 0. +0.j 0. +0.j]\n",
      " [0.5+0.j 0. +0.j 0. +0.j 0.5+0.j]]\n",
      "[[ 4.8882651e-01+0.0000000e+00j -5.2257429e-04+1.7087742e-04j\n",
      "   9.5633687e-03+4.2114187e-02j  4.9761119e-01+1.9819513e-02j]\n",
      " [-5.2257429e-04-1.7087742e-04j  6.1838500e-07+0.0000000e+00j\n",
      "   4.4981070e-06-4.8364716e-05j -5.2503723e-04-1.9513609e-04j]\n",
      " [ 9.5633687e-03-4.2114187e-02j  4.4981070e-06+4.8364716e-05j\n",
      "   3.8153881e-03+0.0000000e+00j  1.1442754e-02-4.2483274e-02j]\n",
      " [ 4.9761119e-01-1.9819513e-02j -5.2503723e-04+1.9513609e-04j\n",
      "   1.1442754e-02+4.2483274e-02j  5.0735730e-01+0.0000000e+00j]]\n",
      "Trace Distance: 0.06554947469958937\n",
      "Fidelity: 0.9957035424189221\n",
      "approximate probabilities: [0.489 0.    0.004 0.507]\n",
      "real probabilities: [0.5 0.  0.  0.5]\n"
     ]
    }
   ],
   "source": [
    "real_part = pyro.param('AutoNormal.locs.real_part').data\n",
    "imag_part = pyro.param('AutoNormal.locs.imag_part').data\n",
    "theta = pyro.param('AutoNormal.locs.theta').data\n",
    "vec = F.normalize(torch.complex(real_part, imag_part), p=2, dim=1).numpy()\n",
    "print('vec2', vec)\n",
    "print(vec.shape)\n",
    "\n",
    "\n",
    "approx_DM = np.outer(vec, np.conj(vec))\n",
    "\n",
    "\n",
    "with open(\"data/GHZ_2_density\", \"rb\") as file:\n",
    "    rho = pickle.load(file)\n",
    "true_DM = rho\n",
    "\n",
    "print(true_DM)\n",
    "print(approx_DM)\n",
    "\n",
    "print('Trace Distance:',trace_dist(approx_DM, true_DM))\n",
    "print('Fidelity:', fidelity(approx_DM, true_DM))\n",
    "\n",
    "approx_prob = np.round(np.real(np.diag(approx_DM)),3)\n",
    "real_prob = np.round(np.real(np.diag(true_DM)),3)\n",
    "\n",
    "print('approximate probabilities:',approx_prob)\n",
    "print('real probabilities:', real_prob)\n",
    "\n",
    "#print(np.round(approx_prob - real_prob,3))"
   ]
  },
  {
   "cell_type": "code",
   "execution_count": null,
   "id": "4fe1b416-f73f-4b22-8e87-48d99dd8d729",
   "metadata": {},
   "outputs": [],
   "source": []
  }
 ],
 "metadata": {
  "kernelspec": {
   "display_name": "Python (stcs6701)",
   "language": "python",
   "name": "stcs6701"
  },
  "language_info": {
   "codemirror_mode": {
    "name": "ipython",
    "version": 3
   },
   "file_extension": ".py",
   "mimetype": "text/x-python",
   "name": "python",
   "nbconvert_exporter": "python",
   "pygments_lexer": "ipython3",
   "version": "3.9.18"
  }
 },
 "nbformat": 4,
 "nbformat_minor": 5
}
