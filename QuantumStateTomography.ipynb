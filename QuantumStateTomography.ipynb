{
 "cells": [
  {
   "cell_type": "markdown",
   "id": "5f20a7f0-197a-4f9e-9770-e004d0f9b521",
   "metadata": {},
   "source": [
    "To-do List:\n",
    "- Try MCMC sampling (NUTS/HMC)\n",
    "- simulate noisy circuits\n",
    "- custom priors"
   ]
  },
  {
   "cell_type": "code",
   "execution_count": 69,
   "id": "ad821bd8-6a4b-49c7-b4a7-c9a92ef8bcd8",
   "metadata": {},
   "outputs": [],
   "source": [
    "import numpy as np\n",
    "import pandas as pd\n",
    "import scipy\n",
    "import matplotlib.pyplot as plt\n",
    "from tqdm import tqdm\n",
    "import random\n",
    "import pickle\n",
    "%matplotlib inline\n",
    "\n",
    "import torch\n",
    "from torch.distributions import constraints\n",
    "import torch.nn as nn\n",
    "from torch.utils.data import DataLoader\n",
    "from torch.utils.data.sampler import SubsetRandomSampler\n",
    "import torch.nn.functional as F\n",
    "\n",
    "import pyro\n",
    "import pyro.distributions as dist\n",
    "from pyro.infer import Predictive, SVI, Trace_ELBO\n",
    "from pyro.optim import Adam, SGD"
   ]
  },
  {
   "cell_type": "code",
   "execution_count": 70,
   "id": "baca6937-3b70-4921-a2ce-d890d04c9ed2",
   "metadata": {},
   "outputs": [],
   "source": [
    "assert pyro.__version__.startswith('1.8.6')\n",
    "pyro.distributions.enable_validation(False)\n",
    "pyro.set_rng_seed(0)\n",
    "# Enable smoke test - run the notebook cells on CI.\n",
    "smoke_test = True"
   ]
  },
  {
   "cell_type": "code",
   "execution_count": 155,
   "id": "000e5dc0-1481-44c4-b837-3c8e282da6ef",
   "metadata": {},
   "outputs": [
    {
     "name": "stdout",
     "output_type": "stream",
     "text": [
      "[0.03275316126456784, 0.07433745245314644, 0.08560266556890885, 0.03105468650411968, 0.07800488512225356, 0.0445530843938049, 0.10778157015101043, 0.03035647449368503, 0.06520108267103343, 0.07528250384039785, 0.04098800351185825, 0.06826535114822851, 0.06921112217159749, 0.030688856777883022, 0.07784206060410001, 0.08807703932340669]\n"
     ]
    }
   ],
   "source": [
    "name = \"mixed2\"\n",
    "filename = name+\"_statistics\"\n",
    "path = \"data/\"+filename\n",
    "\n",
    "probabilities = []\n",
    "with open(path, \"r\") as f:\n",
    "    lines = f.read().splitlines()\n",
    "for line in lines:\n",
    "    outcome, freq = line.split(\" \")\n",
    "    number = int(outcome)\n",
    "    probabilities.append(float(freq))\n",
    "options = range(len(probabilities))\n",
    "print(probabilities)\n",
    "n_samples = 10000\n",
    "data = np.random.choice(options, n_samples, p=probabilities)"
   ]
  },
  {
   "cell_type": "code",
   "execution_count": 208,
   "id": "dc24d98c-7c3d-446e-9032-62ad8caa0e79",
   "metadata": {},
   "outputs": [],
   "source": [
    "class QuantumStateTomography(nn.Module):\n",
    "    def __init__(self, n=3, alpha = 0.1, K=1, POVM=None, sigma =1):\n",
    "        super().__init__()\n",
    "        #define hyperparameters\n",
    "        self.N = 2**n        # size of system (2^num qubits)\n",
    "        self.alpha = alpha   # sparsity of the density matrix\n",
    "        self.K = K           # rank of the density matrix\n",
    "        if POVM is not None:\n",
    "            self.POVM = torch.from_numpy(POVM).type(torch.complex64) # measurement set used\n",
    "        else:\n",
    "            self.POVM = None\n",
    "        self.sigma = sigma   # variance of the complex vectors\n",
    "\n",
    "    def model(self, data):\n",
    "        # draw a probability distribution over K pure states\n",
    "        theta = pyro.sample(\"theta\", dist.Dirichlet(torch.ones(self.K) * self.alpha))\n",
    "    \n",
    "        # generate K pure states\n",
    "        with pyro.plate(\"pure states\", self.K):\n",
    "            real_part = pyro.sample(\"real_part\", dist.MultivariateNormal(torch.zeros(self.N), torch.eye(self.N)))\n",
    "            imag_part = pyro.sample(\"imag_part\", dist.MultivariateNormal(torch.zeros(self.N), torch.eye(self.N)))\n",
    "            complex_vector = torch.complex(real_part, imag_part)\n",
    "            norm_vector = complex_vector / torch.norm(complex_vector, dim=-1, keepdim=True)\n",
    "        norm_vector = torch.transpose(norm_vector,0,1)\n",
    "        \n",
    "        # compute the density matrix (rho)\n",
    "        if self.POVM is None:\n",
    "            # standard basis measurements\n",
    "            squared = torch.conj(norm_vector) * norm_vector\n",
    "            probabilities = (squared @ theta.type(torch.complex64))\n",
    "            with pyro.plate(\"data\", len(data)):\n",
    "                return pyro.sample(\"obs\", dist.Categorical(probabilities.real), obs=data)\n",
    "        else:\n",
    "            # print('povm', self.POVM.shape)\n",
    "            # print('norm_vector', norm_vector.shape, norm_vector)\n",
    "            inner_prods = torch.matmul(torch.conj(self.POVM), norm_vector)\n",
    "            squared = torch.conj(inner_prods) * inner_prods\n",
    "            probabilities = (squared @ theta.type(torch.complex64))\n",
    "            with pyro.plate(\"data\", len(data)):\n",
    "                return pyro.sample(\"obs\", dist.Categorical(probabilities.real), obs=data)\n",
    "\n",
    "    \n",
    "    def guide(self, data):\n",
    "        constrained_vector = pyro.param(\"constrained_vector\", torch.ones(self.K) / self.K, constraint=constraints.simplex)\n",
    "        theta = pyro.sample(\"theta\", dist.Delta(constrained_vector).to_event(1))\n",
    "    \n",
    "        with pyro.plate(\"pure states\", self.K):\n",
    "            real_mean = pyro.param(\"real_mean\", torch.randn(self.K, self.N))\n",
    "            imag_mean = pyro.param(\"imag_mean\", torch.randn(self.K, self.N))\n",
    "            sigma_real = pyro.param(\"sigma_real\", 0.1 * torch.ones(self.K, self.N), constraint=constraints.positive)\n",
    "            sigma_imag = pyro.param(\"sigma_imag\", 0.1 * torch.ones(self.K, self.N), constraint=constraints.positive)\n",
    "            \n",
    "            cov_matrix_real = torch.zeros(self.K, self.N, self.N)\n",
    "            cov_matrix_imag = torch.zeros(self.K, self.N, self.N)\n",
    "            for i in range(self.K):\n",
    "                cov_matrix_real[i] = torch.diag(sigma_real[i])\n",
    "                cov_matrix_imag[i] = torch.diag(sigma_imag[i])\n",
    "    \n",
    "            real_part = pyro.sample(\"real_part\", dist.MultivariateNormal(real_mean, covariance_matrix=cov_matrix_real))\n",
    "            imag_part = pyro.sample(\"imag_part\", dist.MultivariateNormal(imag_mean, covariance_matrix=cov_matrix_imag))"
   ]
  },
  {
   "cell_type": "code",
   "execution_count": 209,
   "id": "2461e5d9-b8ab-4441-9fe0-0f3c9c8938a4",
   "metadata": {},
   "outputs": [],
   "source": [
    "def train(svi, train_loader, use_cuda=False):\n",
    "    # initialize loss accumulator\n",
    "    epoch_loss = 0.\n",
    "    # do a training epoch over each mini-batch x returned\n",
    "    # by the data loader\n",
    "    for x in train_loader:\n",
    "        # if on GPU put mini-batch into CUDA memory\n",
    "        if use_cuda:\n",
    "            x = x.cuda()\n",
    "        # do ELBO gradient and accumulate loss\n",
    "        epoch_loss += svi.step(x)\n",
    "\n",
    "    # return epoch loss\n",
    "    normalizer_train = len(train_loader.dataset)\n",
    "    total_epoch_loss_train = epoch_loss / normalizer_train\n",
    "    return total_epoch_loss_train\n",
    "def evaluate(svi, test_loader, use_cuda=False):\n",
    "    # initialize loss accumulator\n",
    "    test_loss = 0.\n",
    "    # compute the loss over the entire test set\n",
    "    for x in test_loader:\n",
    "        # if on GPU put mini-batch into CUDA memory\n",
    "        if use_cuda:\n",
    "            x = x.cuda()\n",
    "        # compute ELBO estimate and accumulate loss\n",
    "        test_loss += svi.evaluate_loss(x)\n",
    "    normalizer_test = len(test_loader.dataset)\n",
    "    total_epoch_loss_test = test_loss / normalizer_test\n",
    "    return total_epoch_loss_test\n",
    "def setup_data_loaders(data, batch_size=128, use_cuda=False):\n",
    "    root = './data'\n",
    "    download = True\n",
    "    random.shuffle(data)\n",
    "    n = len(data)\n",
    "    cutoff = int(0.9*n)\n",
    "    train_set = torch.Tensor(data[:cutoff])\n",
    "    test_set = torch.Tensor(data[cutoff:])\n",
    "\n",
    "    kwargs = {'num_workers': 4, 'pin_memory': use_cuda}\n",
    "    train_loader = torch.utils.data.DataLoader(dataset=train_set,\n",
    "        batch_size=batch_size, shuffle=True, **kwargs)\n",
    "    test_loader = torch.utils.data.DataLoader(dataset=test_set,\n",
    "        batch_size=batch_size, shuffle=False, **kwargs)\n",
    "    return train_loader, test_loader"
   ]
  },
  {
   "cell_type": "code",
   "execution_count": 210,
   "id": "662d5af8-fbc1-4152-9c1a-5de7ad0c7c9e",
   "metadata": {},
   "outputs": [],
   "source": [
    "# Run options\n",
    "LEARNING_RATE = 1.0e-3\n",
    "USE_CUDA = False\n",
    "smoke_test = False\n",
    "\n",
    "# Run only for a single iteration for testing\n",
    "NUM_EPOCHS = 2 if smoke_test else 100\n",
    "TEST_FREQUENCY = 5"
   ]
  },
  {
   "cell_type": "code",
   "execution_count": 211,
   "id": "7f3edad7-36db-4415-bc15-eb591e90d302",
   "metadata": {},
   "outputs": [
    {
     "name": "stdout",
     "output_type": "stream",
     "text": [
      "tensor([[ 0.1231-0.2208j,  0.1181+0.1642j,  0.1609+0.1174j, -0.1591+0.1775j],\n",
      "        [-0.0573+0.1948j, -0.2354-0.0540j, -0.0624+0.1806j, -0.0577+0.2542j],\n",
      "        [ 0.1704+0.2070j, -0.0403+0.2388j,  0.1599-0.1913j, -0.0175+0.2116j],\n",
      "        [-0.0563-0.2419j,  0.1137-0.2191j,  0.0952-0.1599j,  0.0290+0.2537j],\n",
      "        [ 0.0887+0.2208j,  0.2305+0.0441j,  0.2179+0.0615j,  0.0776+0.1929j],\n",
      "        [ 0.2874+0.0514j, -0.1990+0.1889j, -0.0533-0.3434j, -0.2639+0.0334j],\n",
      "        [-0.2815-0.0517j,  0.2520-0.1549j,  0.2460+0.2238j, -0.2355+0.0430j],\n",
      "        [ 0.1682+0.1557j, -0.1910-0.0666j, -0.0766+0.1662j, -0.2366-0.0477j],\n",
      "        [-0.0819-0.1829j, -0.1728+0.2218j, -0.1980-0.1962j, -0.1491-0.1736j],\n",
      "        [-0.2065+0.0837j, -0.1943+0.1537j, -0.1848+0.1160j, -0.1704+0.1607j],\n",
      "        [ 0.2122+0.1373j,  0.2835+0.0664j,  0.1907+0.1131j, -0.0919-0.2848j],\n",
      "        [ 0.1828+0.0305j, -0.2468-0.0171j,  0.1626+0.1552j,  0.2615+0.0526j],\n",
      "        [-0.2241-0.1903j, -0.2895+0.0183j,  0.2768-0.0414j, -0.0947+0.2390j],\n",
      "        [ 0.0970+0.2083j, -0.0472-0.2018j, -0.1057+0.1678j,  0.0298-0.2412j],\n",
      "        [ 0.0256-0.2934j, -0.2137+0.0790j, -0.0536+0.2867j,  0.2741+0.0742j],\n",
      "        [-0.1293+0.2329j,  0.1730+0.1646j, -0.0410-0.2854j, -0.2465+0.0301j]])\n"
     ]
    }
   ],
   "source": [
    "with open(\"data/mixed2_POVM\", \"rb\") as f:\n",
    "    POVM = pickle.load(f)\n",
    "\n",
    "print(torch.from_numpy(POVM).type(torch.complex64))"
   ]
  },
  {
   "cell_type": "code",
   "execution_count": 224,
   "id": "6796ace3-f755-4925-b8f3-66f8a75b7bb4",
   "metadata": {},
   "outputs": [
    {
     "name": "stderr",
     "output_type": "stream",
     "text": [
      "[epoch 099]  average training loss: 2.8354: 100%|█| 100/100 [02:35<00:00,  1.56s\n"
     ]
    }
   ],
   "source": [
    "train_loader, test_loader = setup_data_loaders(data,batch_size=128, use_cuda=USE_CUDA)\n",
    "n_qubits = 2\n",
    "n_states = 2\n",
    "\n",
    "# clear param store\n",
    "pyro.clear_param_store()\n",
    "\n",
    "qst = QuantumStateTomography(n=n_qubits, K=n_states, POVM=POVM)\n",
    "optimizer = Adam({\"lr\": LEARNING_RATE})\n",
    "autoguide = pyro.infer.autoguide.AutoNormal(qst.model)\n",
    "svi = SVI(qst.model, qst.guide, optimizer, loss=Trace_ELBO())\n",
    "\n",
    "train_elbo = []\n",
    "test_elbo = []\n",
    "# training loop\n",
    "pbar = tqdm(range(NUM_EPOCHS))\n",
    "for epoch in pbar:\n",
    "    total_epoch_loss_train = train(svi, train_loader, use_cuda=USE_CUDA)\n",
    "    train_elbo.append(-total_epoch_loss_train)\n",
    "    pbar.set_description(\"[epoch %03d]  average training loss: %.4f\" % (epoch, total_epoch_loss_train))\n",
    "\n",
    "    if epoch % TEST_FREQUENCY == 0:\n",
    "        # report test diagnostics\n",
    "        total_epoch_loss_test = evaluate(svi, test_loader, use_cuda=USE_CUDA)\n",
    "        test_elbo.append(-total_epoch_loss_test)\n",
    "        pbar.set_description(\"[epoch %03d] average test loss: %.4f\" % (epoch, total_epoch_loss_test))"
   ]
  },
  {
   "cell_type": "code",
   "execution_count": 225,
   "id": "5044ddf4-6487-4e0a-a31f-6ee41ce75c8c",
   "metadata": {},
   "outputs": [
    {
     "data": {
      "image/png": "[encoded data removed]",
      "text/plain": [
       "<Figure size 640x480 with 1 Axes>"
      ]
     },
     "metadata": {},
     "output_type": "display_data"
    }
   ],
   "source": [
    "epochs = np.arange(len(train_elbo))\n",
    "plt.plot(epochs, train_elbo, label='Train ELBO')\n",
    "epochs = np.arange(len(test_elbo))\n",
    "plt.plot(epochs*TEST_FREQUENCY, test_elbo, label='Test ELBO')\n",
    "plt.xlabel('Epochs')\n",
    "plt.ylabel('ELBO')\n",
    "plt.legend()\n",
    "plt.title(f\"Qubits: {n_qubits}, Pure States: {n_states}\")\n",
    "plt.show()"
   ]
  },
  {
   "cell_type": "code",
   "execution_count": 226,
   "id": "9b0aeb8d-778e-4855-8f21-58cb2d7b6035",
   "metadata": {},
   "outputs": [
    {
     "name": "stdout",
     "output_type": "stream",
     "text": [
      "constrained_vector [0.9160418  0.08395823]\n",
      "real_mean [[-0.5266276  -0.01340488  0.06997499 -0.16716717]\n",
      " [ 0.29783085  0.06442977  0.22397627 -0.17241311]]\n",
      "imag_mean [[-2.7936907   0.00338355 -0.08937788 -0.8740235 ]\n",
      " [-0.11955225 -0.28878656  0.3246035  -0.01355341]]\n",
      "sigma_real [[0.4392812  0.05554779 0.07419173 0.08907422]\n",
      " [0.6392348  0.72434527 0.7801248  0.5974656 ]]\n",
      "sigma_imag [[0.23027343 0.05884126 0.0472052  0.0539431 ]\n",
      " [0.7607755  0.789639   0.7793265  0.7859437 ]]\n"
     ]
    }
   ],
   "source": [
    "for name, value in pyro.get_param_store().items():\n",
    "    print(name, pyro.param(name).data.cpu().numpy())\n",
    "# data_ = torch.tensor(data)\n",
    "# predictive_svi = Predictive(qst.model, guide=guide, num_samples=500)(data_)\n",
    "# for k, v in predictive_svi.items():\n",
    "#     print(f\"{k}: {tuple(v.shape)}\")"
   ]
  },
  {
   "cell_type": "code",
   "execution_count": 227,
   "id": "bff02d30-b67b-4370-837d-4193808fec59",
   "metadata": {},
   "outputs": [],
   "source": [
    "from scipy.linalg import sqrtm\n",
    "def trace_dist(a, b):\n",
    "    k = a-b\n",
    "    M = np.matmul(k.conj().T,k)\n",
    "    B = sqrtm(M)\n",
    "    return np.trace(B).real/2\n",
    "\n",
    "def fidelity(a,b):\n",
    "    k = sqrtm(a)\n",
    "    M = k @ b @ k\n",
    "    return (np.trace(sqrtm(M)).real)**2"
   ]
  },
  {
   "cell_type": "code",
   "execution_count": 233,
   "id": "9ac693a1-86e0-4fb9-8fc3-22e6935eb2e3",
   "metadata": {},
   "outputs": [
    {
     "name": "stdout",
     "output_type": "stream",
     "text": [
      "[[0.875+0.j 0.   +0.j 0.   +0.j 0.125+0.j]\n",
      " [0.   +0.j 0.   +0.j 0.   +0.j 0.   +0.j]\n",
      " [0.   +0.j 0.   +0.j 0.   +0.j 0.   +0.j]\n",
      " [0.125+0.j 0.   +0.j 0.   +0.j 0.125+0.j]]\n",
      "[[ 0.856-0.j     0.012-0.022j  0.028+0.053j  0.25 -0.006j]\n",
      " [ 0.012+0.022j  0.02 -0.j    -0.018+0.019j -0.002-0.01j ]\n",
      " [ 0.028-0.053j -0.018-0.019j  0.036+0.j    -0.003+0.004j]\n",
      " [ 0.25 +0.006j -0.002+0.01j  -0.003-0.004j  0.088+0.j   ]]\n",
      "Trace Distance: 0.16678683308660963\n",
      "Fidelity: 0.8929366200443107\n",
      "approximate probabilities: [0.856 0.02  0.036 0.088]\n",
      "real probabilities: [0.875 0.    0.    0.125]\n"
     ]
    }
   ],
   "source": [
    "real_part = pyro.param('real_mean').data\n",
    "imag_part = pyro.param('imag_mean').data\n",
    "theta = pyro.param('constrained_vector').data.numpy()\n",
    "vecs = F.normalize(torch.complex(real_part, imag_part), p=2, dim=1).numpy()\n",
    "approx_DM = (np.conj(vecs.T) @ np.diag(theta) @vecs)\n",
    "\n",
    "with open(\"data/mixed2_density\", \"rb\") as file:\n",
    "    rho = pickle.load(file)\n",
    "true_DM = rho\n",
    "\n",
    "print(true_DM)\n",
    "print(np.round(approx_DM,3))\n",
    "\n",
    "print('Trace Distance:',trace_dist(approx_DM, true_DM))\n",
    "print('Fidelity:', fidelity(approx_DM, true_DM))\n",
    "\n",
    "approx_prob = np.round(np.real(np.diag(approx_DM)),3)\n",
    "real_prob = np.round(np.real(np.diag(true_DM)),3)\n",
    "\n",
    "print('approximate probabilities:',approx_prob)\n",
    "print('real probabilities:', real_prob)\n",
    "\n",
    "#print(np.round(approx_prob - real_prob,3))"
   ]
  },
  {
   "cell_type": "code",
   "execution_count": null,
   "id": "4fe1b416-f73f-4b22-8e87-48d99dd8d729",
   "metadata": {},
   "outputs": [],
   "source": []
  }
 ],
 "metadata": {
  "kernelspec": {
   "display_name": "Python (stcs6701)",
   "language": "python",
   "name": "stcs6701"
  },
  "language_info": {
   "codemirror_mode": {
    "name": "ipython",
    "version": 3
   },
   "file_extension": ".py",
   "mimetype": "text/x-python",
   "name": "python",
   "nbconvert_exporter": "python",
   "pygments_lexer": "ipython3",
   "version": "3.9.18"
  }
 },
 "nbformat": 4,
 "nbformat_minor": 5
}
