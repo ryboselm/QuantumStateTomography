{
 "cells": [
  {
   "cell_type": "code",
   "execution_count": 39,
   "id": "ad821bd8-6a4b-49c7-b4a7-c9a92ef8bcd8",
   "metadata": {},
   "outputs": [],
   "source": [
    "import numpy as np\n",
    "import pandas as pd\n",
    "import scipy\n",
    "from scipy.sparse import coo_matrix\n",
    "import seaborn as sns\n",
    "import matplotlib.pyplot as plt\n",
    "from tqdm import tqdm\n",
    "import random\n",
    "import pickle\n",
    "%matplotlib inline\n",
    "\n",
    "import torch\n",
    "from torch.distributions import constraints\n",
    "import torch.nn as nn\n",
    "from torch.utils.data import DataLoader\n",
    "from torch.utils.data.sampler import SubsetRandomSampler\n",
    "\n",
    "import pyro\n",
    "import pyro.distributions as dist\n",
    "from pyro.infer import Predictive, SVI, Trace_ELBO\n",
    "from pyro.optim import Adam, SGD"
   ]
  },
  {
   "cell_type": "code",
   "execution_count": 4,
   "id": "baca6937-3b70-4921-a2ce-d890d04c9ed2",
   "metadata": {},
   "outputs": [],
   "source": [
    "assert pyro.__version__.startswith('1.8.6')\n",
    "pyro.distributions.enable_validation(False)\n",
    "pyro.set_rng_seed(0)\n",
    "# Enable smoke test - run the notebook cells on CI.\n",
    "smoke_test = True"
   ]
  },
  {
   "cell_type": "code",
   "execution_count": 107,
   "id": "000e5dc0-1481-44c4-b837-3c8e282da6ef",
   "metadata": {},
   "outputs": [
    {
     "name": "stdout",
     "output_type": "stream",
     "text": [
      "{3: 5014, 0: 4986}\n"
     ]
    }
   ],
   "source": [
    "name = \"GHZ_2\"\n",
    "filename = name+\"_counts\"\n",
    "path = \"data/\"+filename\n",
    "outcomes = {}\n",
    "with open(filename, \"r\") as f:\n",
    "    lines = f.read().splitlines()\n",
    "for line in lines:\n",
    "    outcome, freq = line.split(\" \")\n",
    "    number = int(outcome, 2)\n",
    "    outcomes[number] = int(freq)\n",
    "print(outcomes)\n",
    "\n",
    "#creates a shuffled list of the measurement results in proportion\n",
    "data = []\n",
    "for outcome in outcomes:\n",
    "    data += [outcome]*outcomes[outcome]\n",
    "random.shuffle(data)"
   ]
  },
  {
   "cell_type": "code",
   "execution_count": 108,
   "id": "dc24d98c-7c3d-446e-9032-62ad8caa0e79",
   "metadata": {},
   "outputs": [],
   "source": [
    "class QuantumStateTomography(nn.Module):\n",
    "    def __init__(self, N=3, alpha = 1, K=3, POVM=\"standard\", sigma = 1):\n",
    "        super().__init__()\n",
    "        #define hyperparameters\n",
    "        self.N = 2**N        # size of system (2^num qubits)\n",
    "        self.alpha = alpha   # sparsity of the density matrix\n",
    "        self.K = K           # rank of the density matrix\n",
    "        self.POVM = POVM     # measurement set used\n",
    "        self.sigma = sigma   # variance of the complex vectors\n",
    "\n",
    "    def model(self, data):\n",
    "        theta = pyro.sample(\"theta\", dist.Dirichlet(torch.ones(self.K)*self.alpha))\n",
    "        with pyro.plate(\"pure states\", self.K):\n",
    "            real_part = pyro.sample(\"real_part\", dist.MultivariateNormal(torch.zeros(self.N),self.sigma*torch.eye(self.N)))\n",
    "            imag_part = pyro.sample(\"imag_part\", dist.MultivariateNormal(torch.zeros(self.N),self.sigma*torch.eye(self.N)))\n",
    "            complex_vector = torch.complex(real_part, imag_part)\n",
    "            norm_vector = complex_vector / torch.norm(complex_vector, dim=-1, keepdim=True)\n",
    "        theta_diag = torch.diag(theta).type(torch.complex64)\n",
    "        norm_vector_hat = torch.conj(torch.transpose(norm_vector, 0,1))\n",
    "        density_matrix = torch.matmul(torch.matmul(norm_vector_hat, theta_diag), norm_vector)\n",
    "        \n",
    "        ### Alternate way of computing the density matrix\n",
    "        # density_matrix = torch.zeros((self.N,self.N), dtype=torch.complex64)\n",
    "        # for i in range(self.K):\n",
    "        #     vec = norm_vector[i]\n",
    "        #     vec_hat = torch.conj(vec)\n",
    "        #     density_matrix += theta[i].type(torch.complex64) * torch.outer(vec,vec_hat)\n",
    "        \n",
    "        # print(density_matrix.shape)\n",
    "        # print(density_matrix)\n",
    "        #rho = pyro.sample(\"Density Matrix\", dist.Delta(density_matrix, event_dim=2))\n",
    "        rho = density_matrix\n",
    "        #in principle we could apply any POVM measurement set upon this density matrix using traces\n",
    "\n",
    "        if self.POVM == \"standard\":\n",
    "            #standard basis measurements\n",
    "            with pyro.plate('data', len(data)):\n",
    "                return pyro.sample(\"obs\", dist.Categorical(torch.diagonal(rho).real), obs=data)\n",
    "        else:\n",
    "            #TBD\n",
    "            with pyro.plate('data', len(data)):\n",
    "                return pyro.sample(\"obs\", dist.Categorical(torch.diagonal(rho).real), obs=data)"
   ]
  },
  {
   "cell_type": "code",
   "execution_count": 110,
   "id": "2461e5d9-b8ab-4441-9fe0-0f3c9c8938a4",
   "metadata": {},
   "outputs": [],
   "source": [
    "def train(svi, train_loader, use_cuda=False):\n",
    "    # initialize loss accumulator\n",
    "    epoch_loss = 0.\n",
    "    # do a training epoch over each mini-batch x returned\n",
    "    # by the data loader\n",
    "    for x in train_loader:\n",
    "        # if on GPU put mini-batch into CUDA memory\n",
    "        if use_cuda:\n",
    "            x = x.cuda()\n",
    "        # do ELBO gradient and accumulate loss\n",
    "        epoch_loss += svi.step(x)\n",
    "\n",
    "    # return epoch loss\n",
    "    normalizer_train = len(train_loader.dataset)\n",
    "    total_epoch_loss_train = epoch_loss / normalizer_train\n",
    "    return total_epoch_loss_train\n",
    "def evaluate(svi, test_loader, use_cuda=False):\n",
    "    # initialize loss accumulator\n",
    "    test_loss = 0.\n",
    "    # compute the loss over the entire test set\n",
    "    for x in test_loader:\n",
    "        # if on GPU put mini-batch into CUDA memory\n",
    "        if use_cuda:\n",
    "            x = x.cuda()\n",
    "        # compute ELBO estimate and accumulate loss\n",
    "        test_loss += svi.evaluate_loss(x)\n",
    "    normalizer_test = len(test_loader.dataset)\n",
    "    total_epoch_loss_test = test_loss / normalizer_test\n",
    "    return total_epoch_loss_test\n",
    "def setup_data_loaders(data, batch_size=128, use_cuda=False):\n",
    "    root = './data'\n",
    "    download = True\n",
    "    random.shuffle(data)\n",
    "    n = len(data)\n",
    "    cutoff = int(0.9*n)\n",
    "    train_set = torch.Tensor(data[:cutoff])\n",
    "    test_set = torch.Tensor(data[cutoff:])\n",
    "\n",
    "    kwargs = {'num_workers': 4, 'pin_memory': use_cuda}\n",
    "    train_loader = torch.utils.data.DataLoader(dataset=train_set,\n",
    "        batch_size=batch_size, shuffle=True, **kwargs)\n",
    "    test_loader = torch.utils.data.DataLoader(dataset=test_set,\n",
    "        batch_size=batch_size, shuffle=False, **kwargs)\n",
    "    return train_loader, test_loader"
   ]
  },
  {
   "cell_type": "code",
   "execution_count": 112,
   "id": "662d5af8-fbc1-4152-9c1a-5de7ad0c7c9e",
   "metadata": {},
   "outputs": [],
   "source": [
    "# Run options\n",
    "LEARNING_RATE = 1.0e-3\n",
    "USE_CUDA = False\n",
    "smoke_test = False\n",
    "\n",
    "# Run only for a single iteration for testing\n",
    "NUM_EPOCHS = 1 if smoke_test else 100\n",
    "TEST_FREQUENCY = 10"
   ]
  },
  {
   "cell_type": "code",
   "execution_count": 113,
   "id": "6796ace3-f755-4925-b8f3-66f8a75b7bb4",
   "metadata": {},
   "outputs": [
    {
     "name": "stderr",
     "output_type": "stream",
     "text": [
      "[epoch 099]  average training loss: 1.3152: 100%|█| 100/100 [03:27<00:00,  2.07s\n"
     ]
    }
   ],
   "source": [
    "train_loader, test_loader = setup_data_loaders(data,batch_size=20, use_cuda=USE_CUDA)\n",
    "n_qubits = 2\n",
    "n_states = 1\n",
    "# clear param store\n",
    "pyro.clear_param_store()\n",
    "\n",
    "qst = QuantumStateTomography(N=n_qubits, K=n_states)\n",
    "optimizer = Adam({\"lr\": LEARNING_RATE})\n",
    "guide = pyro.infer.autoguide.AutoNormal(qst.model)\n",
    "svi = SVI(qst.model, guide, optimizer, loss=Trace_ELBO())\n",
    "\n",
    "train_elbo = []\n",
    "test_elbo = []\n",
    "# training loop\n",
    "pbar = tqdm(range(NUM_EPOCHS))\n",
    "for epoch in pbar:\n",
    "    total_epoch_loss_train = train(svi, train_loader, use_cuda=USE_CUDA)\n",
    "    train_elbo.append(-total_epoch_loss_train)\n",
    "    pbar.set_description(\"[epoch %03d]  average training loss: %.4f\" % (epoch, total_epoch_loss_train))\n",
    "\n",
    "    if epoch % TEST_FREQUENCY == 0:\n",
    "        # report test diagnostics\n",
    "        total_epoch_loss_test = evaluate(svi, test_loader, use_cuda=USE_CUDA)\n",
    "        test_elbo.append(-total_epoch_loss_test)\n",
    "        pbar.set_description(\"[epoch %03d] average test loss: %.4f\" % (epoch, total_epoch_loss_test))"
   ]
  },
  {
   "cell_type": "code",
   "execution_count": 114,
   "id": "5044ddf4-6487-4e0a-a31f-6ee41ce75c8c",
   "metadata": {},
   "outputs": [
    {
     "data": {
      "image/png": "[encoded data removed]",
      "text/plain": [
       "<Figure size 640x480 with 1 Axes>"
      ]
     },
     "metadata": {},
     "output_type": "display_data"
    }
   ],
   "source": [
    "epochs = np.arange(len(train_elbo))\n",
    "plt.plot(epochs, train_elbo, label='Train ELBO')\n",
    "epochs = np.arange(len(test_elbo))\n",
    "plt.plot(epochs*TEST_FREQUENCY, test_elbo, label='Test ELBO')\n",
    "plt.xlabel('Epochs')\n",
    "plt.ylabel('ELBO')\n",
    "plt.legend()\n",
    "plt.title(f\"Qubits: {n_qubits}, Pure States: {n_states}\")\n",
    "plt.show()"
   ]
  },
  {
   "cell_type": "code",
   "execution_count": 115,
   "id": "9b0aeb8d-778e-4855-8f21-58cb2d7b6035",
   "metadata": {
    "scrolled": true
   },
   "outputs": [],
   "source": [
    "#for name, value in pyro.get_param_store().items():\n",
    "    #print(name, pyro.param(name).data.cpu().numpy())"
   ]
  },
  {
   "cell_type": "code",
   "execution_count": 116,
   "id": "bff02d30-b67b-4370-837d-4193808fec59",
   "metadata": {},
   "outputs": [],
   "source": [
    "from scipy.linalg import sqrtm\n",
    "def trace_dist(a, b):\n",
    "    k = a-b\n",
    "    M = np.matmul(k.conj().T,k)\n",
    "    B = sqrtm(M)\n",
    "    return np.trace(B)/2"
   ]
  },
  {
   "cell_type": "code",
   "execution_count": 119,
   "id": "9ac693a1-86e0-4fb9-8fc3-22e6935eb2e3",
   "metadata": {},
   "outputs": [
    {
     "name": "stdout",
     "output_type": "stream",
     "text": [
      "norm tensor(0.5609)\n",
      "Trace Distance: 0.40683413652534806\n",
      "approx: [0.867 0.001 0.    0.131]\n",
      "real: [0.5 0.  0.  0.5]\n",
      "[ 0.367  0.001  0.    -0.369]\n"
     ]
    }
   ],
   "source": [
    "real_part = pyro.param('AutoNormal.locs.real_part').data[0]\n",
    "imag_part = pyro.param('AutoNormal.locs.imag_part').data[0]\n",
    "print(\"norm\", torch.norm(torch.complex(real_part, imag_part)))\n",
    "vec = torch.complex(real_part, imag_part) / torch.norm(torch.complex(real_part, imag_part))\n",
    "approx_DM = torch.outer(vec, torch.conj(vec)).numpy()\n",
    "\n",
    "with open(\"data/GHZ_2_density\", \"rb\") as file:\n",
    "    rho = pickle.load(file)\n",
    "true_DM = rho.data\n",
    "\n",
    "print('Trace Distance:',trace_dist(approx_DM, true_DM).real)\n",
    "#pretty terrible!\n",
    "\n",
    "approx_prob = np.round(np.real(np.diag(approx_DM)),3)\n",
    "real_prob = np.round(np.real(np.diag(true_DM)),3)\n",
    "print('approx:',approx_prob)\n",
    "print('real:', real_prob)\n",
    "\n",
    "print(np.round(approx_prob - real_prob,3))"
   ]
  },
  {
   "cell_type": "code",
   "execution_count": null,
   "id": "4fe1b416-f73f-4b22-8e87-48d99dd8d729",
   "metadata": {},
   "outputs": [],
   "source": []
  }
 ],
 "metadata": {
  "kernelspec": {
   "display_name": "Python (stcs6701)",
   "language": "python",
   "name": "stcs6701"
  },
  "language_info": {
   "codemirror_mode": {
    "name": "ipython",
    "version": 3
   },
   "file_extension": ".py",
   "mimetype": "text/x-python",
   "name": "python",
   "nbconvert_exporter": "python",
   "pygments_lexer": "ipython3",
   "version": "3.9.18"
  }
 },
 "nbformat": 4,
 "nbformat_minor": 5
}
